{
  "nbformat": 4,
  "nbformat_minor": 0,
  "metadata": {
    "kernelspec": {
      "display_name": "Python 3",
      "language": "python",
      "name": "python3"
    },
    "language_info": {
      "codemirror_mode": {
        "name": "ipython",
        "version": 3
      },
      "file_extension": ".py",
      "mimetype": "text/x-python",
      "name": "python",
      "nbconvert_exporter": "python",
      "pygments_lexer": "ipython3",
      "version": "3.8.8"
    },
    "colab": {
      "name": "data_collection.ipynb",
      "provenance": [],
      "collapsed_sections": []
    }
  },
  "cells": [
    {
      "cell_type": "markdown",
      "metadata": {
        "id": "iLn3zVc4dzQx"
      },
      "source": [
        "# Data Collection \n",
        "\n",
        "##Setup\n",
        "\n",
        "I will use Youtube API to collect data"
      ]
    },
    {
      "cell_type": "code",
      "metadata": {
        "id": "rWBaIH9ikn6m"
      },
      "source": [
        "import os\n",
        "import re\n",
        "import json\n",
        "import operator\n",
        "from datetime import datetime, timedelta\n",
        "from apiclient import discovery\n",
        "from apiclient.discovery import build\n",
        "import googleapiclient.discovery\n",
        "import googleapiclient.errors\n",
        "\n",
        "import pandas as pd\n",
        "#import googletrans\n",
        "#from googletrans import Translator\n",
        "\n",
        "#from google_trans_new import google_translator  "
      ],
      "execution_count": null,
      "outputs": []
    },
    {
      "cell_type": "code",
      "metadata": {
        "id": "wjJwqlYBkn6n"
      },
      "source": [
        "youTubeApiKey=''\n",
        "youtube=build('youtube','v3',developerKey=youTubeApiKey)\n",
        "#Ryan\n",
        "#channelId='UChGJGhZ9SOOHvBB0Y4DOO_w'\n",
        "#NatGeo\n",
        "#channelId='UCpVm7bg6pXKo1Pr6k5kxG9A'\n",
        "#Bounce Patrol\n",
        "#channelId='UC56cowXhoqRWHeqfSJkIQaA'\n",
        "#Disney Junior\n",
        "#channelId='UCNcdbMyA59zE-Vk668bKWOg'\n",
        "#NBC Sport\n",
        "channelId='UCqZQlzSHbVJrwrn5XvzrzcA'"
      ],
      "execution_count": null,
      "outputs": []
    },
    {
      "cell_type": "code",
      "metadata": {
        "colab": {
          "base_uri": "https://localhost:8080/"
        },
        "id": "k4hoPYKZkn6o",
        "outputId": "4c42e978-65dc-4f61-c057-eaed48982326"
      },
      "source": [
        "statdata=youtube.channels().list(part='statistics',id=channelId).execute()\n",
        "stats=statdata['items'][0]['statistics']\n",
        "stats"
      ],
      "execution_count": null,
      "outputs": [
        {
          "output_type": "execute_result",
          "data": {
            "text/plain": [
              "{'hiddenSubscriberCount': False,\n",
              " 'subscriberCount': '1700000',\n",
              " 'videoCount': '19705',\n",
              " 'viewCount': '1108922071'}"
            ]
          },
          "metadata": {
            "tags": []
          },
          "execution_count": 29
        }
      ]
    },
    {
      "cell_type": "code",
      "metadata": {
        "colab": {
          "base_uri": "https://localhost:8080/"
        },
        "id": "AawJbfWNkn6p",
        "outputId": "2dcde356-460f-4436-aed8-d5ae5981f5a6"
      },
      "source": [
        "snippetdata=youtube.channels().list(part='snippet',id=channelId).execute()\n",
        "snippetdata "
      ],
      "execution_count": null,
      "outputs": [
        {
          "output_type": "execute_result",
          "data": {
            "text/plain": [
              "{'etag': 'jILKP0MAq4j7yOvOm6R2n8jJECc',\n",
              " 'items': [{'etag': 'HUfjWxNkFwk2GJbVmfluC7mk6Jw',\n",
              "   'id': 'UCqZQlzSHbVJrwrn5XvzrzcA',\n",
              "   'kind': 'youtube#channel',\n",
              "   'snippet': {'country': 'US',\n",
              "    'customUrl': 'nbcsports',\n",
              "    'description': 'NBC Sports Group serves sports fans 24/7 with premier live events, insightful studio shows, and compelling original programming. NBC Sports is an established leader in the sports media landscape with an unparalleled collection of sports properties that include the Olympics, NFL, Premier League, NHL, NASCAR, PGA TOUR, the Kentucky Derby, Tour de France, French Open, IndyCar and many more. Subscribe to our channel for the latest sporting news and highlights!\\n\\nVisit NBCSports.com: https://www.nbcsports.com\\nSubscribe to our Motorsports on NBC YouTube channel: https://www.youtube.com/motorsportsonnbc\\nFind NBC Sports on Facebook: https://www.facebook.com/NBCSports\\nFollow NBC Sports on Twitter: https://twitter.com/nbcsports\\nFollow NBC Sports on Instagram: https://www.instagram.com/nbcsports/',\n",
              "    'localized': {'description': 'NBC Sports Group serves sports fans 24/7 with premier live events, insightful studio shows, and compelling original programming. NBC Sports is an established leader in the sports media landscape with an unparalleled collection of sports properties that include the Olympics, NFL, Premier League, NHL, NASCAR, PGA TOUR, the Kentucky Derby, Tour de France, French Open, IndyCar and many more. Subscribe to our channel for the latest sporting news and highlights!\\n\\nVisit NBCSports.com: https://www.nbcsports.com\\nSubscribe to our Motorsports on NBC YouTube channel: https://www.youtube.com/motorsportsonnbc\\nFind NBC Sports on Facebook: https://www.facebook.com/NBCSports\\nFollow NBC Sports on Twitter: https://twitter.com/nbcsports\\nFollow NBC Sports on Instagram: https://www.instagram.com/nbcsports/',\n",
              "     'title': 'NBC Sports'},\n",
              "    'publishedAt': '2012-02-07T14:52:11Z',\n",
              "    'thumbnails': {'default': {'height': 88,\n",
              "      'url': 'https://yt3.ggpht.com/ytc/AKedOLRzF9VGD3TH7g9ge0uGS2pOj1oGLB6qvyHEEI1eM4M=s88-c-k-c0x00ffffff-no-rj',\n",
              "      'width': 88},\n",
              "     'high': {'height': 800,\n",
              "      'url': 'https://yt3.ggpht.com/ytc/AKedOLRzF9VGD3TH7g9ge0uGS2pOj1oGLB6qvyHEEI1eM4M=s800-c-k-c0x00ffffff-no-rj',\n",
              "      'width': 800},\n",
              "     'medium': {'height': 240,\n",
              "      'url': 'https://yt3.ggpht.com/ytc/AKedOLRzF9VGD3TH7g9ge0uGS2pOj1oGLB6qvyHEEI1eM4M=s240-c-k-c0x00ffffff-no-rj',\n",
              "      'width': 240}},\n",
              "    'title': 'NBC Sports'}}],\n",
              " 'kind': 'youtube#channelListResponse',\n",
              " 'pageInfo': {'resultsPerPage': 5, 'totalResults': 1}}"
            ]
          },
          "metadata": {
            "tags": []
          },
          "execution_count": 30
        }
      ]
    },
    {
      "cell_type": "code",
      "metadata": {
        "colab": {
          "base_uri": "https://localhost:8080/",
          "height": 37
        },
        "id": "-e78tlUSkn6q",
        "outputId": "d9dd3663-f7c0-46cc-ca41-1592fd6c31a0"
      },
      "source": [
        "title=snippetdata['items'][0]['snippet']['title']\n",
        "title"
      ],
      "execution_count": null,
      "outputs": [
        {
          "output_type": "execute_result",
          "data": {
            "application/vnd.google.colaboratory.intrinsic+json": {
              "type": "string"
            },
            "text/plain": [
              "'NBC Sports'"
            ]
          },
          "metadata": {
            "tags": []
          },
          "execution_count": 31
        }
      ]
    },
    {
      "cell_type": "code",
      "metadata": {
        "colab": {
          "base_uri": "https://localhost:8080/",
          "height": 139
        },
        "id": "LjuRTeSfkn6q",
        "outputId": "de4773b1-1e3e-4258-f621-0246cc7d49d1"
      },
      "source": [
        "description=snippetdata['items'][0]['snippet']['description']\n",
        "description"
      ],
      "execution_count": null,
      "outputs": [
        {
          "output_type": "execute_result",
          "data": {
            "application/vnd.google.colaboratory.intrinsic+json": {
              "type": "string"
            },
            "text/plain": [
              "'NBC Sports Group serves sports fans 24/7 with premier live events, insightful studio shows, and compelling original programming. NBC Sports is an established leader in the sports media landscape with an unparalleled collection of sports properties that include the Olympics, NFL, Premier League, NHL, NASCAR, PGA TOUR, the Kentucky Derby, Tour de France, French Open, IndyCar and many more. Subscribe to our channel for the latest sporting news and highlights!\\n\\nVisit NBCSports.com: https://www.nbcsports.com\\nSubscribe to our Motorsports on NBC YouTube channel: https://www.youtube.com/motorsportsonnbc\\nFind NBC Sports on Facebook: https://www.facebook.com/NBCSports\\nFollow NBC Sports on Twitter: https://twitter.com/nbcsports\\nFollow NBC Sports on Instagram: https://www.instagram.com/nbcsports/'"
            ]
          },
          "metadata": {
            "tags": []
          },
          "execution_count": 32
        }
      ]
    },
    {
      "cell_type": "code",
      "metadata": {
        "colab": {
          "base_uri": "https://localhost:8080/"
        },
        "id": "_4Vzf0bukn6q",
        "outputId": "11035b2d-210b-446a-d37f-158127d3c947"
      },
      "source": [
        "contentdata=youtube.channels().list(id=channelId,part='contentDetails').execute()\n",
        "playlist_id = contentdata['items'][0]['contentDetails']['relatedPlaylists']['uploads']\n",
        "videos = [ ]\n",
        "next_page_token = None\n",
        "\n",
        "while 1:\n",
        "    res = youtube.playlistItems().list(playlistId=playlist_id,\n",
        "                                               part='snippet',\n",
        "                                               maxResults=50,\n",
        "                                               pageToken=next_page_token).execute()\n",
        "    videos += res['items']\n",
        "    next_page_token = res.get('nextPageToken')\n",
        "\n",
        "    if next_page_token is None:\n",
        "        break\n",
        "print(videos[1])"
      ],
      "execution_count": null,
      "outputs": [
        {
          "output_type": "stream",
          "text": [
            "{'kind': 'youtube#playlistItem', 'etag': 'a2EJIcpvXVl66AfkbAYBsXrbGts', 'id': 'VVVxWlFselNIYlZKcndybjVYdnpyemNBLjcwUE9BbnZuZmQw', 'snippet': {'publishedAt': '2021-07-19T00:45:19Z', 'channelId': 'UCqZQlzSHbVJrwrn5XvzrzcA', 'title': \"U.S. women's basketball defeats Nigeria in final exhibition game before Olympics | NBC Sports\", 'description': \"The U.S. women's basketball team earns a dominant win over Nigeria, 93-62, to snap a two-game losing streak and finish their exhibition slate in Las Vegas, before heading to Tokyo. #NBCSports #Olympics #TokyoOlympics\\n» Subscribe to NBC Sports: https://www.youtube.com/nbcsports?sub_confirmation=1\\n» Watch Live Sports on NBCSports.com: http://www.nbcsports.com/live\\n\\nNBC Sports Group serves sports fans 24/7 with premier live events, insightful studio shows, and compelling original programming. NBC Sports is an established leader in the sports media landscape with an unparalleled collection of sports properties that include the Olympics, NFL, Premier League, NHL, NASCAR, PGA TOUR, the Kentucky Derby, Tour de France, French Open, IndyCar and many more. Subscribe to our channel for the latest sporting news and highlights!\\n\\nNBC Olympics is responsible for producing, programming and promoting NBCUniversal's Olympic coverage. It is renowned for its unsurpassed Olympic heritage, award-winning production, and ability to aggregate the largest audiences in U.S. television history. Having produced every Summer Olympics since Seoul in 1988 and every Winter Olympics since Salt Lake City in 2002, the networks of NBCUniversal are synonymous with the Games in the United States. NBCUniversal has the U.S. media rights on all platforms to all Olympic Games through 2032. At the conclusion of the 2032 Games, NBCUniversal will have presented 23 total Olympic Games and 17 consecutive, the most for a U.S. media company in both categories.\\n\\nVisit NBC Sports: https://www.nbcsports.com\\nFind NBC Sports on Facebook: https://www.facebook.com/NBCSports\\nFollow NBC Sports on Twitter: https://twitter.com/nbcsports\\nFollow NBC Sports on Instagram: https://www.instagram.com/nbcsports/\\n\\nU.S. women's basketball defeats Nigeria in final exhibition game before Olympics | NBC Sports\\nhttps://www.youtube.com/nbcsports\", 'thumbnails': {'default': {'url': 'https://i.ytimg.com/vi/70POAnvnfd0/default.jpg', 'width': 120, 'height': 90}, 'medium': {'url': 'https://i.ytimg.com/vi/70POAnvnfd0/mqdefault.jpg', 'width': 320, 'height': 180}, 'high': {'url': 'https://i.ytimg.com/vi/70POAnvnfd0/hqdefault.jpg', 'width': 480, 'height': 360}, 'standard': {'url': 'https://i.ytimg.com/vi/70POAnvnfd0/sddefault.jpg', 'width': 640, 'height': 480}, 'maxres': {'url': 'https://i.ytimg.com/vi/70POAnvnfd0/maxresdefault.jpg', 'width': 1280, 'height': 720}}, 'channelTitle': 'NBC Sports', 'playlistId': 'UUqZQlzSHbVJrwrn5XvzrzcA', 'position': 1, 'resourceId': {'kind': 'youtube#video', 'videoId': '70POAnvnfd0'}, 'videoOwnerChannelTitle': 'NBC Sports', 'videoOwnerChannelId': 'UCqZQlzSHbVJrwrn5XvzrzcA'}}\n"
          ],
          "name": "stdout"
        }
      ]
    },
    {
      "cell_type": "code",
      "metadata": {
        "colab": {
          "base_uri": "https://localhost:8080/"
        },
        "id": "LmHCpObKkn6r",
        "outputId": "57602551-05e8-4739-f31b-b9b375c126a0"
      },
      "source": [
        "video_ids = list(map(lambda x:x['snippet']['resourceId']['videoId'], videos))\n",
        "video_ids[:5]"
      ],
      "execution_count": null,
      "outputs": [
        {
          "output_type": "execute_result",
          "data": {
            "text/plain": [
              "['jLfqwuwuIK4', '70POAnvnfd0', 'IHB-2FqSb9Q', 'JsKvUng8YAk', 'ibrNSh3Xf3U']"
            ]
          },
          "metadata": {
            "tags": []
          },
          "execution_count": 34
        }
      ]
    },
    {
      "cell_type": "code",
      "metadata": {
        "colab": {
          "base_uri": "https://localhost:8080/"
        },
        "id": "j7BElkXqkn6s",
        "outputId": "d3b780ed-2423-453d-eee9-12d731b3a1a5"
      },
      "source": [
        "len(video_ids)"
      ],
      "execution_count": null,
      "outputs": [
        {
          "output_type": "execute_result",
          "data": {
            "text/plain": [
              "19705"
            ]
          },
          "metadata": {
            "tags": []
          },
          "execution_count": 35
        }
      ]
    },
    {
      "cell_type": "code",
      "metadata": {
        "id": "epVplYQ0n_E-"
      },
      "source": [
        "len_kids=1902\n",
        "video_ids=video_ids[:len_kids]"
      ],
      "execution_count": null,
      "outputs": []
    },
    {
      "cell_type": "code",
      "metadata": {
        "colab": {
          "base_uri": "https://localhost:8080/"
        },
        "id": "uTRk0q79oPez",
        "outputId": "39f94846-83b7-4d22-b260-cf74dd42acf0"
      },
      "source": [
        "len(video_ids)"
      ],
      "execution_count": null,
      "outputs": [
        {
          "output_type": "execute_result",
          "data": {
            "text/plain": [
              "1902"
            ]
          },
          "metadata": {
            "tags": []
          },
          "execution_count": 37
        }
      ]
    },
    {
      "cell_type": "code",
      "metadata": {
        "colab": {
          "base_uri": "https://localhost:8080/"
        },
        "id": "GTvK-MHOkn6s",
        "outputId": "cc466da8-01b9-458e-e0d7-46f5198377ce"
      },
      "source": [
        "stats = []\n",
        "snippetdata=[] \n",
        "for i in range(0, len(video_ids), 40):\n",
        "    res = (youtube).videos().list(id=','.join(video_ids[i:i+40]),part='statistics').execute()\n",
        "    stats += res['items']\n",
        "    request = (youtube).videos().list(id=','.join(video_ids[i:i+40]),part='snippet').execute()\n",
        "    snippetdata+= request['items']\n",
        "        \n",
        "print(stats[:5])"
      ],
      "execution_count": null,
      "outputs": [
        {
          "output_type": "stream",
          "text": [
            "[{'kind': 'youtube#video', 'etag': 'qGDx35M7VE7Ezsc340cdQE6aS-I', 'id': 'jLfqwuwuIK4', 'statistics': {'viewCount': '3753', 'likeCount': '94', 'dislikeCount': '3', 'favoriteCount': '0', 'commentCount': '14'}}, {'kind': 'youtube#video', 'etag': 'ErHOx6JC54Js7L8KXWCSW1w8Djg', 'id': '70POAnvnfd0', 'statistics': {'viewCount': '5066', 'likeCount': '126', 'dislikeCount': '7', 'favoriteCount': '0', 'commentCount': '29'}}, {'kind': 'youtube#video', 'etag': 'Keju8WG9vSiozCwMpVbWpZR34Z0', 'id': 'IHB-2FqSb9Q', 'statistics': {'viewCount': '59507', 'likeCount': '860', 'dislikeCount': '17', 'favoriteCount': '0', 'commentCount': '127'}}, {'kind': 'youtube#video', 'etag': 'cZ57ETPgabz91rcuK3qZcRYtZz8', 'id': 'JsKvUng8YAk', 'statistics': {'viewCount': '18192', 'likeCount': '186', 'dislikeCount': '19', 'favoriteCount': '0', 'commentCount': '43'}}, {'kind': 'youtube#video', 'etag': '9yNfM90_hH75Ift65x4OdGIIdEs', 'id': 'ibrNSh3Xf3U', 'statistics': {'viewCount': '96102', 'likeCount': '633', 'dislikeCount': '35', 'favoriteCount': '0', 'commentCount': '200'}}]\n"
          ],
          "name": "stdout"
        }
      ]
    },
    {
      "cell_type": "code",
      "metadata": {
        "colab": {
          "base_uri": "https://localhost:8080/"
        },
        "id": "L6qar8AAkn6s",
        "outputId": "4ed362ca-c6db-4066-9e23-eeaa14ab04b0"
      },
      "source": [
        "print(snippetdata[:1])"
      ],
      "execution_count": null,
      "outputs": [
        {
          "output_type": "stream",
          "text": [
            "[{'kind': 'youtube#video', 'etag': '8OTHNrUUQNco199qXAve3l9sfHo', 'id': 'jLfqwuwuIK4', 'snippet': {'publishedAt': '2021-07-19T05:00:26Z', 'channelId': 'UCqZQlzSHbVJrwrn5XvzrzcA', 'title': \"U.S. men's basketball surges in second half to defeat Spain in final exhibition game | NBC Sports\", 'description': \"In a potential Gold Medal Match preview, the U.S. men's basketball team defeated Spain 83-76 in the Americans' final exhibition game before the Olympics. #NBCSports #Olympics #TokyoOlympics\\n» Subscribe to NBC Sports: https://www.youtube.com/nbcsports?sub_confirmation=1\\n» Watch Live Sports on NBCSports.com: http://www.nbcsports.com/live\\n\\nNBC Sports Group serves sports fans 24/7 with premier live events, insightful studio shows, and compelling original programming. NBC Sports is an established leader in the sports media landscape with an unparalleled collection of sports properties that include the Olympics, NFL, Premier League, NHL, NASCAR, PGA TOUR, the Kentucky Derby, Tour de France, French Open, IndyCar and many more. Subscribe to our channel for the latest sporting news and highlights!\\n\\nNBC Olympics is responsible for producing, programming and promoting NBCUniversal's Olympic coverage. It is renowned for its unsurpassed Olympic heritage, award-winning production, and ability to aggregate the largest audiences in U.S. television history. Having produced every Summer Olympics since Seoul in 1988 and every Winter Olympics since Salt Lake City in 2002, the networks of NBCUniversal are synonymous with the Games in the United States. NBCUniversal has the U.S. media rights on all platforms to all Olympic Games through 2032. At the conclusion of the 2032 Games, NBCUniversal will have presented 23 total Olympic Games and 17 consecutive, the most for a U.S. media company in both categories.\\n\\nVisit NBC Sports: https://www.nbcsports.com\\nFind NBC Sports on Facebook: https://www.facebook.com/NBCSports\\nFollow NBC Sports on Twitter: https://twitter.com/nbcsports\\nFollow NBC Sports on Instagram: https://www.instagram.com/nbcsports/\\n\\nU.S. men's basketball surges in second half to defeat Spain in final exhibition game | NBC Sports\\nhttps://www.youtube.com/nbcsports\", 'thumbnails': {'default': {'url': 'https://i.ytimg.com/vi/jLfqwuwuIK4/default.jpg', 'width': 120, 'height': 90}, 'medium': {'url': 'https://i.ytimg.com/vi/jLfqwuwuIK4/mqdefault.jpg', 'width': 320, 'height': 180}, 'high': {'url': 'https://i.ytimg.com/vi/jLfqwuwuIK4/hqdefault.jpg', 'width': 480, 'height': 360}, 'standard': {'url': 'https://i.ytimg.com/vi/jLfqwuwuIK4/sddefault.jpg', 'width': 640, 'height': 480}, 'maxres': {'url': 'https://i.ytimg.com/vi/jLfqwuwuIK4/maxresdefault.jpg', 'width': 1280, 'height': 720}}, 'channelTitle': 'NBC Sports', 'tags': ['Olympic Sports', 'NFL', 'NBA', 'MLB', 'NHL', 'PGA', 'Golf', 'Athlete', 'Tennis', 'Olympics', 'Kevin Durant', '2020 Tokyo Olympics', 'olympic basketball', 'USA basketball', 'Gregg Popovich', 'Damian Lillard', 'Tokyo', 'Tokyo Olympics', '2020 Tokyo', '2020 Olympics', 'USA', 'USA Basketball', 'Team USA', 'USA highlights', 'Basketball highlights', 'Olympics highlights', 'Olympic highlights', \"U.S. men's basketball\", 'US Spain highlights', 'USA Spain highlights', 'Spain basketball', 'USA vs. Spain', 'US Spain', 'USA Spain', 'Marc Gasol', 'Pau Gasol'], 'categoryId': '17', 'liveBroadcastContent': 'none', 'localized': {'title': \"U.S. men's basketball surges in second half to defeat Spain in final exhibition game | NBC Sports\", 'description': \"In a potential Gold Medal Match preview, the U.S. men's basketball team defeated Spain 83-76 in the Americans' final exhibition game before the Olympics. #NBCSports #Olympics #TokyoOlympics\\n» Subscribe to NBC Sports: https://www.youtube.com/nbcsports?sub_confirmation=1\\n» Watch Live Sports on NBCSports.com: http://www.nbcsports.com/live\\n\\nNBC Sports Group serves sports fans 24/7 with premier live events, insightful studio shows, and compelling original programming. NBC Sports is an established leader in the sports media landscape with an unparalleled collection of sports properties that include the Olympics, NFL, Premier League, NHL, NASCAR, PGA TOUR, the Kentucky Derby, Tour de France, French Open, IndyCar and many more. Subscribe to our channel for the latest sporting news and highlights!\\n\\nNBC Olympics is responsible for producing, programming and promoting NBCUniversal's Olympic coverage. It is renowned for its unsurpassed Olympic heritage, award-winning production, and ability to aggregate the largest audiences in U.S. television history. Having produced every Summer Olympics since Seoul in 1988 and every Winter Olympics since Salt Lake City in 2002, the networks of NBCUniversal are synonymous with the Games in the United States. NBCUniversal has the U.S. media rights on all platforms to all Olympic Games through 2032. At the conclusion of the 2032 Games, NBCUniversal will have presented 23 total Olympic Games and 17 consecutive, the most for a U.S. media company in both categories.\\n\\nVisit NBC Sports: https://www.nbcsports.com\\nFind NBC Sports on Facebook: https://www.facebook.com/NBCSports\\nFollow NBC Sports on Twitter: https://twitter.com/nbcsports\\nFollow NBC Sports on Instagram: https://www.instagram.com/nbcsports/\\n\\nU.S. men's basketball surges in second half to defeat Spain in final exhibition game | NBC Sports\\nhttps://www.youtube.com/nbcsports\"}, 'defaultAudioLanguage': 'en'}}]\n"
          ],
          "name": "stdout"
        }
      ]
    },
    {
      "cell_type": "code",
      "metadata": {
        "colab": {
          "base_uri": "https://localhost:8080/"
        },
        "id": "axvLXMAWkn6t",
        "outputId": "958c6160-9878-481c-d2d0-4027d8f00904"
      },
      "source": [
        "snippetdata[0]['snippet']"
      ],
      "execution_count": null,
      "outputs": [
        {
          "output_type": "execute_result",
          "data": {
            "text/plain": [
              "{'categoryId': '17',\n",
              " 'channelId': 'UCqZQlzSHbVJrwrn5XvzrzcA',\n",
              " 'channelTitle': 'NBC Sports',\n",
              " 'defaultAudioLanguage': 'en',\n",
              " 'description': \"In a potential Gold Medal Match preview, the U.S. men's basketball team defeated Spain 83-76 in the Americans' final exhibition game before the Olympics. #NBCSports #Olympics #TokyoOlympics\\n» Subscribe to NBC Sports: https://www.youtube.com/nbcsports?sub_confirmation=1\\n» Watch Live Sports on NBCSports.com: http://www.nbcsports.com/live\\n\\nNBC Sports Group serves sports fans 24/7 with premier live events, insightful studio shows, and compelling original programming. NBC Sports is an established leader in the sports media landscape with an unparalleled collection of sports properties that include the Olympics, NFL, Premier League, NHL, NASCAR, PGA TOUR, the Kentucky Derby, Tour de France, French Open, IndyCar and many more. Subscribe to our channel for the latest sporting news and highlights!\\n\\nNBC Olympics is responsible for producing, programming and promoting NBCUniversal's Olympic coverage. It is renowned for its unsurpassed Olympic heritage, award-winning production, and ability to aggregate the largest audiences in U.S. television history. Having produced every Summer Olympics since Seoul in 1988 and every Winter Olympics since Salt Lake City in 2002, the networks of NBCUniversal are synonymous with the Games in the United States. NBCUniversal has the U.S. media rights on all platforms to all Olympic Games through 2032. At the conclusion of the 2032 Games, NBCUniversal will have presented 23 total Olympic Games and 17 consecutive, the most for a U.S. media company in both categories.\\n\\nVisit NBC Sports: https://www.nbcsports.com\\nFind NBC Sports on Facebook: https://www.facebook.com/NBCSports\\nFollow NBC Sports on Twitter: https://twitter.com/nbcsports\\nFollow NBC Sports on Instagram: https://www.instagram.com/nbcsports/\\n\\nU.S. men's basketball surges in second half to defeat Spain in final exhibition game | NBC Sports\\nhttps://www.youtube.com/nbcsports\",\n",
              " 'liveBroadcastContent': 'none',\n",
              " 'localized': {'description': \"In a potential Gold Medal Match preview, the U.S. men's basketball team defeated Spain 83-76 in the Americans' final exhibition game before the Olympics. #NBCSports #Olympics #TokyoOlympics\\n» Subscribe to NBC Sports: https://www.youtube.com/nbcsports?sub_confirmation=1\\n» Watch Live Sports on NBCSports.com: http://www.nbcsports.com/live\\n\\nNBC Sports Group serves sports fans 24/7 with premier live events, insightful studio shows, and compelling original programming. NBC Sports is an established leader in the sports media landscape with an unparalleled collection of sports properties that include the Olympics, NFL, Premier League, NHL, NASCAR, PGA TOUR, the Kentucky Derby, Tour de France, French Open, IndyCar and many more. Subscribe to our channel for the latest sporting news and highlights!\\n\\nNBC Olympics is responsible for producing, programming and promoting NBCUniversal's Olympic coverage. It is renowned for its unsurpassed Olympic heritage, award-winning production, and ability to aggregate the largest audiences in U.S. television history. Having produced every Summer Olympics since Seoul in 1988 and every Winter Olympics since Salt Lake City in 2002, the networks of NBCUniversal are synonymous with the Games in the United States. NBCUniversal has the U.S. media rights on all platforms to all Olympic Games through 2032. At the conclusion of the 2032 Games, NBCUniversal will have presented 23 total Olympic Games and 17 consecutive, the most for a U.S. media company in both categories.\\n\\nVisit NBC Sports: https://www.nbcsports.com\\nFind NBC Sports on Facebook: https://www.facebook.com/NBCSports\\nFollow NBC Sports on Twitter: https://twitter.com/nbcsports\\nFollow NBC Sports on Instagram: https://www.instagram.com/nbcsports/\\n\\nU.S. men's basketball surges in second half to defeat Spain in final exhibition game | NBC Sports\\nhttps://www.youtube.com/nbcsports\",\n",
              "  'title': \"U.S. men's basketball surges in second half to defeat Spain in final exhibition game | NBC Sports\"},\n",
              " 'publishedAt': '2021-07-19T05:00:26Z',\n",
              " 'tags': ['Olympic Sports',\n",
              "  'NFL',\n",
              "  'NBA',\n",
              "  'MLB',\n",
              "  'NHL',\n",
              "  'PGA',\n",
              "  'Golf',\n",
              "  'Athlete',\n",
              "  'Tennis',\n",
              "  'Olympics',\n",
              "  'Kevin Durant',\n",
              "  '2020 Tokyo Olympics',\n",
              "  'olympic basketball',\n",
              "  'USA basketball',\n",
              "  'Gregg Popovich',\n",
              "  'Damian Lillard',\n",
              "  'Tokyo',\n",
              "  'Tokyo Olympics',\n",
              "  '2020 Tokyo',\n",
              "  '2020 Olympics',\n",
              "  'USA',\n",
              "  'USA Basketball',\n",
              "  'Team USA',\n",
              "  'USA highlights',\n",
              "  'Basketball highlights',\n",
              "  'Olympics highlights',\n",
              "  'Olympic highlights',\n",
              "  \"U.S. men's basketball\",\n",
              "  'US Spain highlights',\n",
              "  'USA Spain highlights',\n",
              "  'Spain basketball',\n",
              "  'USA vs. Spain',\n",
              "  'US Spain',\n",
              "  'USA Spain',\n",
              "  'Marc Gasol',\n",
              "  'Pau Gasol'],\n",
              " 'thumbnails': {'default': {'height': 90,\n",
              "   'url': 'https://i.ytimg.com/vi/jLfqwuwuIK4/default.jpg',\n",
              "   'width': 120},\n",
              "  'high': {'height': 360,\n",
              "   'url': 'https://i.ytimg.com/vi/jLfqwuwuIK4/hqdefault.jpg',\n",
              "   'width': 480},\n",
              "  'maxres': {'height': 720,\n",
              "   'url': 'https://i.ytimg.com/vi/jLfqwuwuIK4/maxresdefault.jpg',\n",
              "   'width': 1280},\n",
              "  'medium': {'height': 180,\n",
              "   'url': 'https://i.ytimg.com/vi/jLfqwuwuIK4/mqdefault.jpg',\n",
              "   'width': 320},\n",
              "  'standard': {'height': 480,\n",
              "   'url': 'https://i.ytimg.com/vi/jLfqwuwuIK4/sddefault.jpg',\n",
              "   'width': 640}},\n",
              " 'title': \"U.S. men's basketball surges in second half to defeat Spain in final exhibition game | NBC Sports\"}"
            ]
          },
          "metadata": {
            "tags": []
          },
          "execution_count": 40
        }
      ]
    },
    {
      "cell_type": "code",
      "metadata": {
        "id": "SWbcWHHlkn6t"
      },
      "source": [
        "title=[ ]\n",
        "channel_title=[]\n",
        "desc=[]\n",
        "date=[]\n",
        "tags=[]\n",
        "liked=[ ]\n",
        "disliked=[ ]\n",
        "views=[ ]\n",
        "#comment=[ ]\n",
        "\n",
        "for i in range(len(video_ids)):\n",
        "    title.append(snippetdata[i]['snippet'].get('title'))\n",
        "    channel_title.append(snippetdata[i]['snippet'].get('channelTitle'))\n",
        "    desc.append(snippetdata[i]['snippet'].get('description'))\n",
        "    date.append(snippetdata[i]['snippet'].get('publishedAt'))\n",
        "    tags.append(snippetdata[i]['snippet'].get('tags')) \n",
        "    liked.append(stats[i]['statistics'].get('likeCount'))\n",
        "    disliked.append(stats[i]['statistics'].get('dislikeCount'))\n",
        "    views.append(stats[i]['statistics'].get('viewCount'))\n",
        "    #comment.append(statistics['items'][0]['statistics'].get('commentCount'))\n",
        "    #comment.append(int((stats[i])['statistics']['commentCount']))"
      ],
      "execution_count": null,
      "outputs": []
    },
    {
      "cell_type": "code",
      "metadata": {
        "colab": {
          "base_uri": "https://localhost:8080/",
          "height": 306
        },
        "id": "ahWDSodIkn6u",
        "outputId": "0724fe45-2774-4aae-ba20-8a82ae4df4cb"
      },
      "source": [
        "data={'title':title,'channel_title':channel_title,'desc':desc,'date':date,'tags':tags,'liked':liked,'disliked':disliked,'views':views}\n",
        "df=pd.DataFrame(data)\n",
        "df.head(5)"
      ],
      "execution_count": null,
      "outputs": [
        {
          "output_type": "execute_result",
          "data": {
            "text/html": [
              "<div>\n",
              "<style scoped>\n",
              "    .dataframe tbody tr th:only-of-type {\n",
              "        vertical-align: middle;\n",
              "    }\n",
              "\n",
              "    .dataframe tbody tr th {\n",
              "        vertical-align: top;\n",
              "    }\n",
              "\n",
              "    .dataframe thead th {\n",
              "        text-align: right;\n",
              "    }\n",
              "</style>\n",
              "<table border=\"1\" class=\"dataframe\">\n",
              "  <thead>\n",
              "    <tr style=\"text-align: right;\">\n",
              "      <th></th>\n",
              "      <th>title</th>\n",
              "      <th>channel_title</th>\n",
              "      <th>desc</th>\n",
              "      <th>date</th>\n",
              "      <th>tags</th>\n",
              "      <th>liked</th>\n",
              "      <th>disliked</th>\n",
              "      <th>views</th>\n",
              "    </tr>\n",
              "  </thead>\n",
              "  <tbody>\n",
              "    <tr>\n",
              "      <th>0</th>\n",
              "      <td>U.S. men's basketball surges in second half to...</td>\n",
              "      <td>NBC Sports</td>\n",
              "      <td>In a potential Gold Medal Match preview, the U...</td>\n",
              "      <td>2021-07-19T05:00:26Z</td>\n",
              "      <td>[Olympic Sports, NFL, NBA, MLB, NHL, PGA, Golf...</td>\n",
              "      <td>94</td>\n",
              "      <td>3</td>\n",
              "      <td>3753</td>\n",
              "    </tr>\n",
              "    <tr>\n",
              "      <th>1</th>\n",
              "      <td>U.S. women's basketball defeats Nigeria in fin...</td>\n",
              "      <td>NBC Sports</td>\n",
              "      <td>The U.S. women's basketball team earns a domin...</td>\n",
              "      <td>2021-07-19T00:45:18Z</td>\n",
              "      <td>[Olympic Sports, NFL, NBA, MLB, NHL, PGA, Golf...</td>\n",
              "      <td>126</td>\n",
              "      <td>7</td>\n",
              "      <td>5066</td>\n",
              "    </tr>\n",
              "    <tr>\n",
              "      <th>2</th>\n",
              "      <td>Tour de France 2021: Stage 21 extended highlig...</td>\n",
              "      <td>NBC Sports</td>\n",
              "      <td>The 2021 Tour de France concludes at Stage 21,...</td>\n",
              "      <td>2021-07-18T23:53:35Z</td>\n",
              "      <td>[tour de france, Olympics, cycling, cycling ra...</td>\n",
              "      <td>860</td>\n",
              "      <td>17</td>\n",
              "      <td>59507</td>\n",
              "    </tr>\n",
              "    <tr>\n",
              "      <th>3</th>\n",
              "      <td>2021 Tour de France crash compilation | Cyclin...</td>\n",
              "      <td>NBC Sports</td>\n",
              "      <td>From an unaware fan to tumbling down a mountai...</td>\n",
              "      <td>2021-07-18T23:13:34Z</td>\n",
              "      <td>[tour de france, Olympics, cycling, cycling ra...</td>\n",
              "      <td>186</td>\n",
              "      <td>19</td>\n",
              "      <td>18192</td>\n",
              "    </tr>\n",
              "    <tr>\n",
              "      <th>4</th>\n",
              "      <td>Haskell Stakes 2021 ends in jockey fall, disqu...</td>\n",
              "      <td>NBC Sports</td>\n",
              "      <td>Watch the 2021 Haskell Stakes at Monmouth Park...</td>\n",
              "      <td>2021-07-17T23:44:19Z</td>\n",
              "      <td>[Horse racing, monmouth park, monmouth 2021, f...</td>\n",
              "      <td>633</td>\n",
              "      <td>35</td>\n",
              "      <td>96102</td>\n",
              "    </tr>\n",
              "  </tbody>\n",
              "</table>\n",
              "</div>"
            ],
            "text/plain": [
              "                                               title  ...  views\n",
              "0  U.S. men's basketball surges in second half to...  ...   3753\n",
              "1  U.S. women's basketball defeats Nigeria in fin...  ...   5066\n",
              "2  Tour de France 2021: Stage 21 extended highlig...  ...  59507\n",
              "3  2021 Tour de France crash compilation | Cyclin...  ...  18192\n",
              "4  Haskell Stakes 2021 ends in jockey fall, disqu...  ...  96102\n",
              "\n",
              "[5 rows x 8 columns]"
            ]
          },
          "metadata": {
            "tags": []
          },
          "execution_count": 42
        }
      ]
    },
    {
      "cell_type": "code",
      "metadata": {
        "colab": {
          "base_uri": "https://localhost:8080/"
        },
        "id": "5W95Sp9Ukn6u",
        "outputId": "9345b69b-3144-4ee3-f4da-2af2d98dece4"
      },
      "source": [
        "len(df)"
      ],
      "execution_count": null,
      "outputs": [
        {
          "output_type": "execute_result",
          "data": {
            "text/plain": [
              "1902"
            ]
          },
          "metadata": {
            "tags": []
          },
          "execution_count": 43
        }
      ]
    },
    {
      "cell_type": "code",
      "metadata": {
        "id": "P20NoGdNkn6u"
      },
      "source": [
        "#df.to_csv('data_like_nastya.csv',index=False, )\n",
        "#df.to_csv('data_ryan.csv',index=False )\n",
        "df.to_csv('data_sports.csv',index=False )\n"
      ],
      "execution_count": null,
      "outputs": []
    },
    {
      "cell_type": "code",
      "metadata": {
        "id": "CSSooTjBkn6u"
      },
      "source": [
        ""
      ],
      "execution_count": null,
      "outputs": []
    }
  ]
}