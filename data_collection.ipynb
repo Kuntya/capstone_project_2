{
 "cells": [
  {
   "cell_type": "code",
   "execution_count": 40,
   "metadata": {},
   "outputs": [],
   "source": [
    "import os\n",
    "import re\n",
    "import json\n",
    "import operator\n",
    "from datetime import datetime, timedelta\n",
    "from apiclient import discovery\n",
    "from apiclient.discovery import build\n",
    "import googleapiclient.discovery\n",
    "import googleapiclient.errors\n",
    "\n",
    "import pandas as pd\n",
    "import googletrans\n",
    "from googletrans import Translator\n",
    "\n",
    "from google_trans_new import google_translator  "
   ]
  },
  {
   "cell_type": "code",
   "execution_count": 41,
   "metadata": {},
   "outputs": [],
   "source": [
    "youTubeApiKey=''\n",
    "youtube=build('youtube','v3',developerKey=youTubeApiKey)\n",
    "#Ryan\n",
    "channelId='UChGJGhZ9SOOHvBB0Y4DOO_w'\n",
    "#Nastya\n",
    "#channelId='UCJplp5SjeGSdVdwsfb9Q7lQ'\n"
   ]
  },
  {
   "cell_type": "code",
   "execution_count": 42,
   "metadata": {},
   "outputs": [
    {
     "data": {
      "text/plain": [
       "{'viewCount': '44725030397',\n",
       " 'subscriberCount': '28200000',\n",
       " 'hiddenSubscriberCount': False,\n",
       " 'videoCount': '1902'}"
      ]
     },
     "execution_count": 42,
     "metadata": {},
     "output_type": "execute_result"
    }
   ],
   "source": [
    "statdata=youtube.channels().list(part='statistics',id=channelId).execute()\n",
    "stats=statdata['items'][0]['statistics']\n",
    "stats"
   ]
  },
  {
   "cell_type": "code",
   "execution_count": 43,
   "metadata": {},
   "outputs": [
    {
     "data": {
      "text/plain": [
       "{'kind': 'youtube#channelListResponse',\n",
       " 'etag': 'tx7D7azTVu0awx3VMwL4Y9_z1a0',\n",
       " 'pageInfo': {'totalResults': 1, 'resultsPerPage': 5},\n",
       " 'items': [{'kind': 'youtube#channel',\n",
       "   'etag': 'dt4KVa7qfCw8bE5XfHCjiecmso0',\n",
       "   'id': 'UChGJGhZ9SOOHvBB0Y4DOO_w',\n",
       "   'snippet': {'title': \"Ryan's World\",\n",
       "    'description': \"Welcome To Ryan's World!!! Ryan loves doing lots of fun things like pretend play, science experiments, music videos, skits, challenges, DIY arts and crafts and more!!! \\nMost of the toys we used to review are being donated to local charity \\n\\nRyan's Toys & Clothing at Walmart and Target!\\n\\nRyan's World \\nRyan's Family Review: https://www.youtube.com/channel/UCsaOzYsyshyrYL4SHCTI8xw\\nCombo Panda: https://www.youtube.com/channel/UCb69PhsHzsorirJDlxaIXlg\\nGus The Gummy Gator: https://www.youtube.com/channel/UCZkSuKAy5kMnZXoxo1PrmJQ\\nVTubers: https://www.youtube.com/channel/UCwOGO9gT1y0IvzPqKal4loQ\\nThe Studio Space: https://www.youtube.com/channel/UCRgCbwOa1f76Ec_eRBhhezA\\nFor Media Inquiries: Ryansworld@rogersandcowan.com\\nFor Business Inquiries: ryantoysreviewbiz@gmail.com\",\n",
       "    'customUrl': 'ryantoysreview',\n",
       "    'publishedAt': '2015-03-17T00:18:47Z',\n",
       "    'thumbnails': {'default': {'url': 'https://yt3.ggpht.com/ytc/AAUvwnih5t41bshQ91s7c0fJSdrfV4RrsmGPLO123Bznmg=s88-c-k-c0x00ffffff-no-rj',\n",
       "      'width': 88,\n",
       "      'height': 88},\n",
       "     'medium': {'url': 'https://yt3.ggpht.com/ytc/AAUvwnih5t41bshQ91s7c0fJSdrfV4RrsmGPLO123Bznmg=s240-c-k-c0x00ffffff-no-rj',\n",
       "      'width': 240,\n",
       "      'height': 240},\n",
       "     'high': {'url': 'https://yt3.ggpht.com/ytc/AAUvwnih5t41bshQ91s7c0fJSdrfV4RrsmGPLO123Bznmg=s800-c-k-c0x00ffffff-no-rj',\n",
       "      'width': 800,\n",
       "      'height': 800}},\n",
       "    'localized': {'title': \"Ryan's World\",\n",
       "     'description': \"Welcome To Ryan's World!!! Ryan loves doing lots of fun things like pretend play, science experiments, music videos, skits, challenges, DIY arts and crafts and more!!! \\nMost of the toys we used to review are being donated to local charity \\n\\nRyan's Toys & Clothing at Walmart and Target!\\n\\nRyan's World \\nRyan's Family Review: https://www.youtube.com/channel/UCsaOzYsyshyrYL4SHCTI8xw\\nCombo Panda: https://www.youtube.com/channel/UCb69PhsHzsorirJDlxaIXlg\\nGus The Gummy Gator: https://www.youtube.com/channel/UCZkSuKAy5kMnZXoxo1PrmJQ\\nVTubers: https://www.youtube.com/channel/UCwOGO9gT1y0IvzPqKal4loQ\\nThe Studio Space: https://www.youtube.com/channel/UCRgCbwOa1f76Ec_eRBhhezA\\nFor Media Inquiries: Ryansworld@rogersandcowan.com\\nFor Business Inquiries: ryantoysreviewbiz@gmail.com\"},\n",
       "    'country': 'US'}}]}"
      ]
     },
     "execution_count": 43,
     "metadata": {},
     "output_type": "execute_result"
    }
   ],
   "source": [
    "snippetdata=youtube.channels().list(part='snippet',id=channelId).execute()\n",
    "snippetdata "
   ]
  },
  {
   "cell_type": "code",
   "execution_count": 44,
   "metadata": {},
   "outputs": [
    {
     "data": {
      "text/plain": [
       "\"Ryan's World\""
      ]
     },
     "execution_count": 44,
     "metadata": {},
     "output_type": "execute_result"
    }
   ],
   "source": [
    "title=snippetdata['items'][0]['snippet']['title']\n",
    "title"
   ]
  },
  {
   "cell_type": "code",
   "execution_count": 45,
   "metadata": {},
   "outputs": [
    {
     "data": {
      "text/plain": [
       "\"Welcome To Ryan's World!!! Ryan loves doing lots of fun things like pretend play, science experiments, music videos, skits, challenges, DIY arts and crafts and more!!! \\nMost of the toys we used to review are being donated to local charity \\n\\nRyan's Toys & Clothing at Walmart and Target!\\n\\nRyan's World \\nRyan's Family Review: https://www.youtube.com/channel/UCsaOzYsyshyrYL4SHCTI8xw\\nCombo Panda: https://www.youtube.com/channel/UCb69PhsHzsorirJDlxaIXlg\\nGus The Gummy Gator: https://www.youtube.com/channel/UCZkSuKAy5kMnZXoxo1PrmJQ\\nVTubers: https://www.youtube.com/channel/UCwOGO9gT1y0IvzPqKal4loQ\\nThe Studio Space: https://www.youtube.com/channel/UCRgCbwOa1f76Ec_eRBhhezA\\nFor Media Inquiries: Ryansworld@rogersandcowan.com\\nFor Business Inquiries: ryantoysreviewbiz@gmail.com\""
      ]
     },
     "execution_count": 45,
     "metadata": {},
     "output_type": "execute_result"
    }
   ],
   "source": [
    "description=snippetdata['items'][0]['snippet']['description']\n",
    "description"
   ]
  },
  {
   "cell_type": "code",
   "execution_count": 46,
   "metadata": {},
   "outputs": [
    {
     "name": "stdout",
     "output_type": "stream",
     "text": [
      "{'kind': 'youtube#playlistItem', 'etag': 'cgxSbqHuSBPFHNO8a-FzRgZfGwc', 'id': 'VVVoR0pHaFo5U09PSHZCQjBZNERPT193LnkwTUJNeGVZeFFV', 'snippet': {'publishedAt': '2021-01-23T13:00:32Z', 'channelId': 'UChGJGhZ9SOOHvBB0Y4DOO_w', 'title': 'Ryan play with Giant Soccer Ball and Learn about Force and Motion for kids!!', 'description': \"Ryan play with Giant Soccer Ball and Learn about Force and Motion for kids!!  Fun educational science video to teach preschoolers about What is Force (push or pull) with Ryan's World!\", 'thumbnails': {'default': {'url': 'https://i.ytimg.com/vi/y0MBMxeYxQU/default.jpg', 'width': 120, 'height': 90}, 'medium': {'url': 'https://i.ytimg.com/vi/y0MBMxeYxQU/mqdefault.jpg', 'width': 320, 'height': 180}, 'high': {'url': 'https://i.ytimg.com/vi/y0MBMxeYxQU/hqdefault.jpg', 'width': 480, 'height': 360}, 'standard': {'url': 'https://i.ytimg.com/vi/y0MBMxeYxQU/sddefault.jpg', 'width': 640, 'height': 480}, 'maxres': {'url': 'https://i.ytimg.com/vi/y0MBMxeYxQU/maxresdefault.jpg', 'width': 1280, 'height': 720}}, 'channelTitle': \"Ryan's World\", 'playlistId': 'UUhGJGhZ9SOOHvBB0Y4DOO_w', 'position': 1, 'resourceId': {'kind': 'youtube#video', 'videoId': 'y0MBMxeYxQU'}}}\n"
     ]
    }
   ],
   "source": [
    "contentdata=youtube.channels().list(id=channelId,part='contentDetails').execute()\n",
    "playlist_id = contentdata['items'][0]['contentDetails']['relatedPlaylists']['uploads']\n",
    "videos = [ ]\n",
    "next_page_token = None\n",
    "\n",
    "while 1:\n",
    "    res = youtube.playlistItems().list(playlistId=playlist_id,\n",
    "                                               part='snippet',\n",
    "                                               maxResults=50,\n",
    "                                               pageToken=next_page_token).execute()\n",
    "    videos += res['items']\n",
    "    next_page_token = res.get('nextPageToken')\n",
    "\n",
    "    if next_page_token is None:\n",
    "        break\n",
    "print(videos[1])"
   ]
  },
  {
   "cell_type": "code",
   "execution_count": 47,
   "metadata": {},
   "outputs": [
    {
     "data": {
      "text/plain": [
       "['8KYdWaeePY4', 'y0MBMxeYxQU', 'bBRt3sq5eOY', '_QuucL5RYR0', 'uh0MFNz-ymI']"
      ]
     },
     "execution_count": 47,
     "metadata": {},
     "output_type": "execute_result"
    }
   ],
   "source": [
    "video_ids = list(map(lambda x:x['snippet']['resourceId']['videoId'], videos))\n",
    "video_ids[:5]"
   ]
  },
  {
   "cell_type": "code",
   "execution_count": 48,
   "metadata": {},
   "outputs": [
    {
     "data": {
      "text/plain": [
       "1902"
      ]
     },
     "execution_count": 48,
     "metadata": {},
     "output_type": "execute_result"
    }
   ],
   "source": [
    "len(videos)\n"
   ]
  },
  {
   "cell_type": "code",
   "execution_count": 49,
   "metadata": {},
   "outputs": [
    {
     "name": "stdout",
     "output_type": "stream",
     "text": [
      "[{'kind': 'youtube#video', 'etag': '12uE5hYhWd-3zpkmYL6NhqFjAPE', 'id': '8KYdWaeePY4', 'statistics': {'viewCount': '200970', 'likeCount': '1503', 'dislikeCount': '399', 'favoriteCount': '0'}}, {'kind': 'youtube#video', 'etag': 'ajwoLH2K9kFqAfQg3aVValcaj_I', 'id': 'y0MBMxeYxQU', 'statistics': {'viewCount': '331667', 'likeCount': '2434', 'dislikeCount': '626', 'favoriteCount': '0'}}, {'kind': 'youtube#video', 'etag': 'MdHKZ3io4VLJtUkv1wWkWBStRE8', 'id': 'bBRt3sq5eOY', 'statistics': {'viewCount': '332385', 'likeCount': '2469', 'dislikeCount': '605', 'favoriteCount': '0'}}, {'kind': 'youtube#video', 'etag': 'OzyX-pfWI1o_zUJUPYf1cT2KR5I', 'id': '_QuucL5RYR0', 'statistics': {'viewCount': '1587332', 'likeCount': '7228', 'dislikeCount': '2360', 'favoriteCount': '0'}}, {'kind': 'youtube#video', 'etag': '1LcuQdKVIgnUBM9fyrQU2V7UnJk', 'id': 'uh0MFNz-ymI', 'statistics': {'viewCount': '4411698', 'likeCount': '16552', 'dislikeCount': '6395', 'favoriteCount': '0'}}]\n"
     ]
    }
   ],
   "source": [
    "stats = []\n",
    "snippetdata=[] \n",
    "for i in range(0, len(video_ids), 40):\n",
    "    res = (youtube).videos().list(id=','.join(video_ids[i:i+40]),part='statistics').execute()\n",
    "    stats += res['items']\n",
    "    request = (youtube).videos().list(id=','.join(video_ids[i:i+40]),part='snippet').execute()\n",
    "    snippetdata+= request['items']\n",
    "        \n",
    "print(stats[:5])"
   ]
  },
  {
   "cell_type": "code",
   "execution_count": 50,
   "metadata": {},
   "outputs": [
    {
     "name": "stdout",
     "output_type": "stream",
     "text": [
      "[{'kind': 'youtube#video', 'etag': '9DRnajXe8AAAp19iELG9QW7BthM', 'id': '8KYdWaeePY4', 'snippet': {'publishedAt': '2021-01-24T13:00:02Z', 'channelId': 'UChGJGhZ9SOOHvBB0Y4DOO_w', 'title': 'Easy DIY Science Experiment for Kids Rainbow Snowstorm in a Jar!!!', 'description': 'Easy DIY Science Experiment for Kids Rainbow Snowstorm in a Jar!!! Fun way for kids to learn and see that oil and water does not mix!', 'thumbnails': {'default': {'url': 'https://i.ytimg.com/vi/8KYdWaeePY4/default.jpg', 'width': 120, 'height': 90}, 'medium': {'url': 'https://i.ytimg.com/vi/8KYdWaeePY4/mqdefault.jpg', 'width': 320, 'height': 180}, 'high': {'url': 'https://i.ytimg.com/vi/8KYdWaeePY4/hqdefault.jpg', 'width': 480, 'height': 360}, 'standard': {'url': 'https://i.ytimg.com/vi/8KYdWaeePY4/sddefault.jpg', 'width': 640, 'height': 480}, 'maxres': {'url': 'https://i.ytimg.com/vi/8KYdWaeePY4/maxresdefault.jpg', 'width': 1280, 'height': 720}}, 'channelTitle': \"Ryan's World\", 'tags': [\"Ryan's World\", 'Ryan ToysReview', 'science experiments', 'kids science experiments', 'science experiments for kids', 'easy DIY science experiments', 'easy DIY science experiments for kids', 'snowstorm in a jar', 'rainbow science experiments', 'oil and water experiments', 'kids science video'], 'categoryId': '24', 'liveBroadcastContent': 'none', 'localized': {'title': 'Easy DIY Science Experiment for Kids Rainbow Snowstorm in a Jar!!!', 'description': 'Easy DIY Science Experiment for Kids Rainbow Snowstorm in a Jar!!! Fun way for kids to learn and see that oil and water does not mix!'}}}]\n"
     ]
    }
   ],
   "source": [
    "print(snippetdata[:1])"
   ]
  },
  {
   "cell_type": "code",
   "execution_count": 51,
   "metadata": {},
   "outputs": [
    {
     "data": {
      "text/plain": [
       "{'publishedAt': '2021-01-24T13:00:02Z',\n",
       " 'channelId': 'UChGJGhZ9SOOHvBB0Y4DOO_w',\n",
       " 'title': 'Easy DIY Science Experiment for Kids Rainbow Snowstorm in a Jar!!!',\n",
       " 'description': 'Easy DIY Science Experiment for Kids Rainbow Snowstorm in a Jar!!! Fun way for kids to learn and see that oil and water does not mix!',\n",
       " 'thumbnails': {'default': {'url': 'https://i.ytimg.com/vi/8KYdWaeePY4/default.jpg',\n",
       "   'width': 120,\n",
       "   'height': 90},\n",
       "  'medium': {'url': 'https://i.ytimg.com/vi/8KYdWaeePY4/mqdefault.jpg',\n",
       "   'width': 320,\n",
       "   'height': 180},\n",
       "  'high': {'url': 'https://i.ytimg.com/vi/8KYdWaeePY4/hqdefault.jpg',\n",
       "   'width': 480,\n",
       "   'height': 360},\n",
       "  'standard': {'url': 'https://i.ytimg.com/vi/8KYdWaeePY4/sddefault.jpg',\n",
       "   'width': 640,\n",
       "   'height': 480},\n",
       "  'maxres': {'url': 'https://i.ytimg.com/vi/8KYdWaeePY4/maxresdefault.jpg',\n",
       "   'width': 1280,\n",
       "   'height': 720}},\n",
       " 'channelTitle': \"Ryan's World\",\n",
       " 'tags': [\"Ryan's World\",\n",
       "  'Ryan ToysReview',\n",
       "  'science experiments',\n",
       "  'kids science experiments',\n",
       "  'science experiments for kids',\n",
       "  'easy DIY science experiments',\n",
       "  'easy DIY science experiments for kids',\n",
       "  'snowstorm in a jar',\n",
       "  'rainbow science experiments',\n",
       "  'oil and water experiments',\n",
       "  'kids science video'],\n",
       " 'categoryId': '24',\n",
       " 'liveBroadcastContent': 'none',\n",
       " 'localized': {'title': 'Easy DIY Science Experiment for Kids Rainbow Snowstorm in a Jar!!!',\n",
       "  'description': 'Easy DIY Science Experiment for Kids Rainbow Snowstorm in a Jar!!! Fun way for kids to learn and see that oil and water does not mix!'}}"
      ]
     },
     "execution_count": 51,
     "metadata": {},
     "output_type": "execute_result"
    }
   ],
   "source": [
    "snippetdata[0]['snippet']"
   ]
  },
  {
   "cell_type": "code",
   "execution_count": 52,
   "metadata": {},
   "outputs": [],
   "source": [
    "title=[ ]\n",
    "channel_title=[]\n",
    "desc=[]\n",
    "date=[]\n",
    "tags=[]\n",
    "liked=[ ]\n",
    "disliked=[ ]\n",
    "views=[ ]\n",
    "#comment=[ ]\n",
    "\n",
    "for i in range(len(videos)):\n",
    "    title.append(snippetdata[i]['snippet'].get('title'))\n",
    "    channel_title.append(snippetdata[i]['snippet'].get('channelTitle'))\n",
    "    desc.append(snippetdata[i]['snippet'].get('description'))\n",
    "    date.append(snippetdata[i]['snippet'].get('publishedAt'))\n",
    "    tags.append(snippetdata[i]['snippet'].get('tags')) \n",
    "    liked.append(stats[i]['statistics'].get('likeCount'))\n",
    "    disliked.append(stats[i]['statistics'].get('dislikeCount'))\n",
    "    views.append(stats[i]['statistics'].get('viewCount'))\n",
    "    #comment.append(statistics['items'][0]['statistics'].get('commentCount'))\n",
    "    #comment.append(int((stats[i])['statistics']['commentCount']))"
   ]
  },
  {
   "cell_type": "code",
   "execution_count": 53,
   "metadata": {},
   "outputs": [
    {
     "data": {
      "text/html": [
       "<div>\n",
       "<style scoped>\n",
       "    .dataframe tbody tr th:only-of-type {\n",
       "        vertical-align: middle;\n",
       "    }\n",
       "\n",
       "    .dataframe tbody tr th {\n",
       "        vertical-align: top;\n",
       "    }\n",
       "\n",
       "    .dataframe thead th {\n",
       "        text-align: right;\n",
       "    }\n",
       "</style>\n",
       "<table border=\"1\" class=\"dataframe\">\n",
       "  <thead>\n",
       "    <tr style=\"text-align: right;\">\n",
       "      <th></th>\n",
       "      <th>title</th>\n",
       "      <th>channel_title</th>\n",
       "      <th>desc</th>\n",
       "      <th>date</th>\n",
       "      <th>tags</th>\n",
       "      <th>liked</th>\n",
       "      <th>disliked</th>\n",
       "      <th>views</th>\n",
       "    </tr>\n",
       "  </thead>\n",
       "  <tbody>\n",
       "    <tr>\n",
       "      <th>0</th>\n",
       "      <td>Easy DIY Science Experiment for Kids Rainbow S...</td>\n",
       "      <td>Ryan's World</td>\n",
       "      <td>Easy DIY Science Experiment for Kids Rainbow S...</td>\n",
       "      <td>2021-01-24T13:00:02Z</td>\n",
       "      <td>[Ryan's World, Ryan ToysReview, science experi...</td>\n",
       "      <td>1503</td>\n",
       "      <td>399</td>\n",
       "      <td>200970</td>\n",
       "    </tr>\n",
       "    <tr>\n",
       "      <th>1</th>\n",
       "      <td>Ryan play with Giant Soccer Ball and Learn abo...</td>\n",
       "      <td>Ryan's World</td>\n",
       "      <td>Ryan play with Giant Soccer Ball and Learn abo...</td>\n",
       "      <td>2021-01-23T13:00:32Z</td>\n",
       "      <td>[Ryan's World, force, force and motion, learn ...</td>\n",
       "      <td>2434</td>\n",
       "      <td>626</td>\n",
       "      <td>331667</td>\n",
       "    </tr>\n",
       "    <tr>\n",
       "      <th>2</th>\n",
       "      <td>Ryan hides the Golden Egg from King Collectors...</td>\n",
       "      <td>Ryan's World</td>\n",
       "      <td>Ryan hides the Golden Egg from King Collectors...</td>\n",
       "      <td>2021-01-22T13:00:22Z</td>\n",
       "      <td>[Ryan's World, Pretend play, Combo Panda, anim...</td>\n",
       "      <td>2469</td>\n",
       "      <td>605</td>\n",
       "      <td>332385</td>\n",
       "    </tr>\n",
       "    <tr>\n",
       "      <th>3</th>\n",
       "      <td>Dancing Corn Easy DIY Science Experiments for ...</td>\n",
       "      <td>Ryan's World</td>\n",
       "      <td>Dancing Corn Easy DIY Science Experiments for ...</td>\n",
       "      <td>2021-01-20T13:00:13Z</td>\n",
       "      <td>[Ryan's World, Ryan ToysReview, dancing corn, ...</td>\n",
       "      <td>7228</td>\n",
       "      <td>2360</td>\n",
       "      <td>1587332</td>\n",
       "    </tr>\n",
       "    <tr>\n",
       "      <th>4</th>\n",
       "      <td>Ryan does DIY Science Experiments with Emma an...</td>\n",
       "      <td>Ryan's World</td>\n",
       "      <td>Ryan does DIY Science Experiments with Emma an...</td>\n",
       "      <td>2021-01-18T13:00:29Z</td>\n",
       "      <td>[Ryan's World, Ryan ToysReview, DIY science ex...</td>\n",
       "      <td>16552</td>\n",
       "      <td>6395</td>\n",
       "      <td>4411698</td>\n",
       "    </tr>\n",
       "  </tbody>\n",
       "</table>\n",
       "</div>"
      ],
      "text/plain": [
       "                                               title channel_title  \\\n",
       "0  Easy DIY Science Experiment for Kids Rainbow S...  Ryan's World   \n",
       "1  Ryan play with Giant Soccer Ball and Learn abo...  Ryan's World   \n",
       "2  Ryan hides the Golden Egg from King Collectors...  Ryan's World   \n",
       "3  Dancing Corn Easy DIY Science Experiments for ...  Ryan's World   \n",
       "4  Ryan does DIY Science Experiments with Emma an...  Ryan's World   \n",
       "\n",
       "                                                desc                  date  \\\n",
       "0  Easy DIY Science Experiment for Kids Rainbow S...  2021-01-24T13:00:02Z   \n",
       "1  Ryan play with Giant Soccer Ball and Learn abo...  2021-01-23T13:00:32Z   \n",
       "2  Ryan hides the Golden Egg from King Collectors...  2021-01-22T13:00:22Z   \n",
       "3  Dancing Corn Easy DIY Science Experiments for ...  2021-01-20T13:00:13Z   \n",
       "4  Ryan does DIY Science Experiments with Emma an...  2021-01-18T13:00:29Z   \n",
       "\n",
       "                                                tags  liked disliked    views  \n",
       "0  [Ryan's World, Ryan ToysReview, science experi...   1503      399   200970  \n",
       "1  [Ryan's World, force, force and motion, learn ...   2434      626   331667  \n",
       "2  [Ryan's World, Pretend play, Combo Panda, anim...   2469      605   332385  \n",
       "3  [Ryan's World, Ryan ToysReview, dancing corn, ...   7228     2360  1587332  \n",
       "4  [Ryan's World, Ryan ToysReview, DIY science ex...  16552     6395  4411698  "
      ]
     },
     "execution_count": 53,
     "metadata": {},
     "output_type": "execute_result"
    }
   ],
   "source": [
    "data={'title':title,'channel_title':channel_title,'desc':desc,'date':date,'tags':tags,'liked':liked,'disliked':disliked,'views':views}\n",
    "df=pd.DataFrame(data)\n",
    "df.head(5)"
   ]
  },
  {
   "cell_type": "code",
   "execution_count": 54,
   "metadata": {},
   "outputs": [
    {
     "data": {
      "text/plain": [
       "1902"
      ]
     },
     "execution_count": 54,
     "metadata": {},
     "output_type": "execute_result"
    }
   ],
   "source": [
    "len(df)"
   ]
  },
  {
   "cell_type": "code",
   "execution_count": 55,
   "metadata": {},
   "outputs": [],
   "source": [
    "#df.to_csv('data_like_nastya.csv',index=False, )\n",
    "df.to_csv('data_ryan.csv',index=False )"
   ]
  },
  {
   "cell_type": "code",
   "execution_count": null,
   "metadata": {},
   "outputs": [],
   "source": []
  }
 ],
 "metadata": {
  "kernelspec": {
   "display_name": "Python 3",
   "language": "python",
   "name": "python3"
  },
  "language_info": {
   "codemirror_mode": {
    "name": "ipython",
    "version": 3
   },
   "file_extension": ".py",
   "mimetype": "text/x-python",
   "name": "python",
   "nbconvert_exporter": "python",
   "pygments_lexer": "ipython3",
   "version": "3.7.4"
  }
 },
 "nbformat": 4,
 "nbformat_minor": 4
}
